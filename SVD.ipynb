{
  "nbformat": 4,
  "nbformat_minor": 0,
  "metadata": {
    "colab": {
      "provenance": [],
      "authorship_tag": "ABX9TyMC7+0IwaSt9BG1Nj27Z1yT",
      "include_colab_link": true
    },
    "kernelspec": {
      "name": "python3",
      "display_name": "Python 3"
    },
    "language_info": {
      "name": "python"
    }
  },
  "cells": [
    {
      "cell_type": "markdown",
      "metadata": {
        "id": "view-in-github",
        "colab_type": "text"
      },
      "source": [
        "<a href=\"https://colab.research.google.com/github/mrbarik/SVD/blob/main/SVD.ipynb\" target=\"_parent\"><img src=\"https://colab.research.google.com/assets/colab-badge.svg\" alt=\"Open In Colab\"/></a>"
      ]
    },
    {
      "cell_type": "markdown",
      "source": [
        "Singular Value Decomposition (SVD)"
      ],
      "metadata": {
        "id": "QAB1ymDms7PI"
      }
    },
    {
      "cell_type": "code",
      "execution_count": null,
      "metadata": {
        "id": "zTK2v7YG6EDe"
      },
      "outputs": [],
      "source": [
        "\"\"\"\n",
        "from numpy import array\n",
        "from numpy import diag\n",
        "from numpy import dot\n",
        "from scipy.linalg import svd\n",
        "# define a matrix\n",
        "#A = array([[1, 2, 3], [4, 5, 6], [7, 8, 9]]) # A(m * n)\n",
        "A = array([[1, 2], [3, 4], [5, 6]])\n",
        "\n",
        "# Singular-value decomposition\n",
        "U, s, VT = svd(A)\n",
        "\n",
        "# U: matrix of order m*m (orthogonal matrix)\n",
        "# Sigma: matrix of order m*n (diagaonal matrix of square and non-square)\n",
        "# VT: matrix of order n*n (orthogonal matrix)\n",
        "\n",
        "# create n x n Sigma matrix\n",
        "Sigma = diag(s)\n",
        "# reconstruct matrix\n",
        "#B = U.dot(Sigma.dot(VT))\n",
        "print(\"U -> \", U)\n",
        "print(\"s ->\", Sigma)\n",
        "print(\"VT ->\", VT)\n",
        "\"\"\"\n",
        "\n",
        "# Reconstruct SVD\n",
        "from numpy import array\n",
        "from numpy import diag\n",
        "from numpy import dot\n",
        "from numpy import zeros\n",
        "from scipy.linalg import svd\n",
        "\n",
        "# define a matrix\n",
        "A = array([[1, 2], [3, 4], [5, 6]])\n",
        "\n",
        "# Singular-value decomposition\n",
        "U, s, VT = svd(A)\n",
        "# create m x n Sigma matrix\n",
        "Sigma = zeros((A.shape[0], A.shape[1]))\n",
        "# populate Sigma with n x n diagonal matrix\n",
        "Sigma[:A.shape[1], :A.shape[1]] = diag(s)\n",
        "# reconstruct matrix\n",
        "B = U.dot(Sigma.dot(VT))\n",
        "\n",
        "\n",
        "# U: matrix of order m*m (orthogonal matrix) [normalized eigen-vectors -- arranged in descending order or their eigen-value] [matrix U contains the left singular vector of matrix A]\n",
        "# Sigma: matrix of order m*n (diagaonal matrix of square and non-square) [rectangularly diagonal]\n",
        "# VT: matrix of order n*n (orthogonal matrix) [normalized eigen-vectors -- arranged in descending order or their eigen-value] [matrix V contains normalized right singular vector of matrix A] \n"
      ]
    }
  ]
}